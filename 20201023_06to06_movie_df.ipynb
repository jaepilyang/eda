{
 "cells": [
  {
   "cell_type": "code",
   "execution_count": 1,
   "metadata": {},
   "outputs": [],
   "source": [
    "import pandas as pd\n",
    "import numpy as np\n",
    "import matplotlib.pyplot as plt\n",
    "import seaborn as sns"
   ]
  },
  {
   "cell_type": "code",
   "execution_count": 51,
   "metadata": {},
   "outputs": [],
   "source": [
    "# matplotlib 한글 설정\n",
    "import matplotlib as mpl\n",
    "import matplotlib.font_manager as fm\n",
    "\n",
    "mpl.rcParams['axes.unicode_minus'] = False\n",
    "\n",
    "path = 'C:Windows/Fonts/malgun.ttf'\n",
    "font_name = fm.FontProperties(fname = path, size = 50).get_name()\n",
    "plt.rc('font', family=font_name)"
   ]
  },
  {
   "cell_type": "code",
   "execution_count": 5,
   "metadata": {},
   "outputs": [
    {
     "data": {
      "text/html": [
       "<div>\n",
       "<style scoped>\n",
       "    .dataframe tbody tr th:only-of-type {\n",
       "        vertical-align: middle;\n",
       "    }\n",
       "\n",
       "    .dataframe tbody tr th {\n",
       "        vertical-align: top;\n",
       "    }\n",
       "\n",
       "    .dataframe thead th {\n",
       "        text-align: right;\n",
       "    }\n",
       "</style>\n",
       "<table border=\"1\" class=\"dataframe\">\n",
       "  <thead>\n",
       "    <tr style=\"text-align: right;\">\n",
       "      <th></th>\n",
       "      <th>순번</th>\n",
       "      <th>영화명</th>\n",
       "      <th>감독</th>\n",
       "      <th>제작사</th>\n",
       "      <th>수입사</th>\n",
       "      <th>배급사</th>\n",
       "      <th>개봉일</th>\n",
       "      <th>영화유형</th>\n",
       "      <th>영화형태</th>\n",
       "      <th>국적</th>\n",
       "      <th>전국</th>\n",
       "      <th>전국.1</th>\n",
       "      <th>전국.2</th>\n",
       "      <th>서울</th>\n",
       "      <th>서울.1</th>\n",
       "      <th>장르</th>\n",
       "      <th>등급</th>\n",
       "      <th>영화구분</th>\n",
       "    </tr>\n",
       "  </thead>\n",
       "  <tbody>\n",
       "    <tr>\n",
       "      <th>0</th>\n",
       "      <td>NaN</td>\n",
       "      <td>NaN</td>\n",
       "      <td>NaN</td>\n",
       "      <td>NaN</td>\n",
       "      <td>NaN</td>\n",
       "      <td>NaN</td>\n",
       "      <td>NaN</td>\n",
       "      <td>NaN</td>\n",
       "      <td>NaN</td>\n",
       "      <td>NaN</td>\n",
       "      <td>스크린수</td>\n",
       "      <td>매출액</td>\n",
       "      <td>관객수</td>\n",
       "      <td>매출액</td>\n",
       "      <td>관객수</td>\n",
       "      <td>NaN</td>\n",
       "      <td>NaN</td>\n",
       "      <td>NaN</td>\n",
       "    </tr>\n",
       "    <tr>\n",
       "      <th>1</th>\n",
       "      <td>1.0</td>\n",
       "      <td>명량</td>\n",
       "      <td>김한민</td>\n",
       "      <td>(주)빅스톤픽쳐스</td>\n",
       "      <td>NaN</td>\n",
       "      <td>씨제이이앤엠(주)</td>\n",
       "      <td>2014-07-30</td>\n",
       "      <td>개봉영화</td>\n",
       "      <td>장편</td>\n",
       "      <td>한국</td>\n",
       "      <td>1,587</td>\n",
       "      <td>135,748,398,910</td>\n",
       "      <td>17,613,682</td>\n",
       "      <td>33,121,225,810</td>\n",
       "      <td>4,163,666</td>\n",
       "      <td>사극</td>\n",
       "      <td>15세이상관람가</td>\n",
       "      <td>일반영화</td>\n",
       "    </tr>\n",
       "    <tr>\n",
       "      <th>2</th>\n",
       "      <td>2.0</td>\n",
       "      <td>극한직업</td>\n",
       "      <td>이병헌</td>\n",
       "      <td>(주)어바웃필름,영화사 해그림 주식회사,씨제이이앤엠(주)</td>\n",
       "      <td>NaN</td>\n",
       "      <td>씨제이이앤엠(주)</td>\n",
       "      <td>2019-01-23</td>\n",
       "      <td>개봉영화</td>\n",
       "      <td>장편</td>\n",
       "      <td>한국</td>\n",
       "      <td>1,978</td>\n",
       "      <td>139,647,979,516</td>\n",
       "      <td>16,264,944</td>\n",
       "      <td>31,858,660,536</td>\n",
       "      <td>3,638,287</td>\n",
       "      <td>코미디</td>\n",
       "      <td>15세이상관람가</td>\n",
       "      <td>일반영화</td>\n",
       "    </tr>\n",
       "  </tbody>\n",
       "</table>\n",
       "</div>"
      ],
      "text/plain": [
       "    순번   영화명   감독                              제작사  수입사        배급사  \\\n",
       "0  NaN   NaN  NaN                              NaN  NaN        NaN   \n",
       "1  1.0    명량  김한민                        (주)빅스톤픽쳐스  NaN  씨제이이앤엠(주)   \n",
       "2  2.0  극한직업  이병헌  (주)어바웃필름,영화사 해그림 주식회사,씨제이이앤엠(주)  NaN  씨제이이앤엠(주)   \n",
       "\n",
       "          개봉일  영화유형 영화형태   국적     전국             전국.1        전국.2  \\\n",
       "0         NaN   NaN  NaN  NaN   스크린수              매출액         관객수   \n",
       "1  2014-07-30  개봉영화   장편   한국  1,587  135,748,398,910  17,613,682   \n",
       "2  2019-01-23  개봉영화   장편   한국  1,978  139,647,979,516  16,264,944   \n",
       "\n",
       "               서울       서울.1   장르        등급  영화구분  \n",
       "0             매출액        관객수  NaN       NaN   NaN  \n",
       "1  33,121,225,810  4,163,666   사극  15세이상관람가  일반영화  \n",
       "2  31,858,660,536  3,638,287  코미디  15세이상관람가  일반영화  "
      ]
     },
     "execution_count": 5,
     "metadata": {},
     "output_type": "execute_result"
    }
   ],
   "source": [
    "df = pd.read_csv('./KOBIS_개봉일람_2019-10-26.csv', skiprows=5)\n",
    "df.head(3)"
   ]
  },
  {
   "cell_type": "code",
   "execution_count": 10,
   "metadata": {},
   "outputs": [],
   "source": [
    "df.rename(columns={'전국':'스큰린수', '전국.1':'매출액', '전국.2':'관객수', '서울':'서울매출액', '서울.1':'서울관객수'}, inplace=True)"
   ]
  },
  {
   "cell_type": "code",
   "execution_count": 12,
   "metadata": {},
   "outputs": [],
   "source": [
    "df.drop(0, inplace=True)"
   ]
  },
  {
   "cell_type": "code",
   "execution_count": 14,
   "metadata": {},
   "outputs": [
    {
     "data": {
      "text/html": [
       "<div>\n",
       "<style scoped>\n",
       "    .dataframe tbody tr th:only-of-type {\n",
       "        vertical-align: middle;\n",
       "    }\n",
       "\n",
       "    .dataframe tbody tr th {\n",
       "        vertical-align: top;\n",
       "    }\n",
       "\n",
       "    .dataframe thead th {\n",
       "        text-align: right;\n",
       "    }\n",
       "</style>\n",
       "<table border=\"1\" class=\"dataframe\">\n",
       "  <thead>\n",
       "    <tr style=\"text-align: right;\">\n",
       "      <th></th>\n",
       "      <th>순번</th>\n",
       "      <th>영화명</th>\n",
       "      <th>감독</th>\n",
       "      <th>제작사</th>\n",
       "      <th>수입사</th>\n",
       "      <th>배급사</th>\n",
       "      <th>개봉일</th>\n",
       "      <th>영화유형</th>\n",
       "      <th>영화형태</th>\n",
       "      <th>국적</th>\n",
       "      <th>스큰린수</th>\n",
       "      <th>매출액</th>\n",
       "      <th>관객수</th>\n",
       "      <th>서울매출액</th>\n",
       "      <th>서울관객수</th>\n",
       "      <th>장르</th>\n",
       "      <th>등급</th>\n",
       "      <th>영화구분</th>\n",
       "    </tr>\n",
       "  </thead>\n",
       "  <tbody>\n",
       "    <tr>\n",
       "      <th>1</th>\n",
       "      <td>1.0</td>\n",
       "      <td>명량</td>\n",
       "      <td>김한민</td>\n",
       "      <td>(주)빅스톤픽쳐스</td>\n",
       "      <td>NaN</td>\n",
       "      <td>씨제이이앤엠(주)</td>\n",
       "      <td>2014-07-30</td>\n",
       "      <td>개봉영화</td>\n",
       "      <td>장편</td>\n",
       "      <td>한국</td>\n",
       "      <td>1,587</td>\n",
       "      <td>135,748,398,910</td>\n",
       "      <td>17,613,682</td>\n",
       "      <td>33,121,225,810</td>\n",
       "      <td>4,163,666</td>\n",
       "      <td>사극</td>\n",
       "      <td>15세이상관람가</td>\n",
       "      <td>일반영화</td>\n",
       "    </tr>\n",
       "    <tr>\n",
       "      <th>2</th>\n",
       "      <td>2.0</td>\n",
       "      <td>극한직업</td>\n",
       "      <td>이병헌</td>\n",
       "      <td>(주)어바웃필름,영화사 해그림 주식회사,씨제이이앤엠(주)</td>\n",
       "      <td>NaN</td>\n",
       "      <td>씨제이이앤엠(주)</td>\n",
       "      <td>2019-01-23</td>\n",
       "      <td>개봉영화</td>\n",
       "      <td>장편</td>\n",
       "      <td>한국</td>\n",
       "      <td>1,978</td>\n",
       "      <td>139,647,979,516</td>\n",
       "      <td>16,264,944</td>\n",
       "      <td>31,858,660,536</td>\n",
       "      <td>3,638,287</td>\n",
       "      <td>코미디</td>\n",
       "      <td>15세이상관람가</td>\n",
       "      <td>일반영화</td>\n",
       "    </tr>\n",
       "  </tbody>\n",
       "</table>\n",
       "</div>"
      ],
      "text/plain": [
       "    순번   영화명   감독                              제작사  수입사        배급사  \\\n",
       "1  1.0    명량  김한민                        (주)빅스톤픽쳐스  NaN  씨제이이앤엠(주)   \n",
       "2  2.0  극한직업  이병헌  (주)어바웃필름,영화사 해그림 주식회사,씨제이이앤엠(주)  NaN  씨제이이앤엠(주)   \n",
       "\n",
       "          개봉일  영화유형 영화형태  국적   스큰린수              매출액         관객수  \\\n",
       "1  2014-07-30  개봉영화   장편  한국  1,587  135,748,398,910  17,613,682   \n",
       "2  2019-01-23  개봉영화   장편  한국  1,978  139,647,979,516  16,264,944   \n",
       "\n",
       "            서울매출액      서울관객수   장르        등급  영화구분  \n",
       "1  33,121,225,810  4,163,666   사극  15세이상관람가  일반영화  \n",
       "2  31,858,660,536  3,638,287  코미디  15세이상관람가  일반영화  "
      ]
     },
     "execution_count": 14,
     "metadata": {},
     "output_type": "execute_result"
    }
   ],
   "source": [
    "df.head(2)"
   ]
  },
  {
   "cell_type": "code",
   "execution_count": 22,
   "metadata": {
    "collapsed": true
   },
   "outputs": [
    {
     "ename": "KeyError",
     "evalue": "\"['서울매출액' '서울관객수' '순번' '영화유형' '제작사' '등급' '수입사'] not found in axis\"",
     "output_type": "error",
     "traceback": [
      "\u001b[1;31m---------------------------------------------------------------------------\u001b[0m",
      "\u001b[1;31mKeyError\u001b[0m                                  Traceback (most recent call last)",
      "\u001b[1;32m<ipython-input-22-96ced738a9c4>\u001b[0m in \u001b[0;36m<module>\u001b[1;34m\u001b[0m\n\u001b[1;32m----> 1\u001b[1;33m \u001b[0mdf\u001b[0m\u001b[1;33m.\u001b[0m\u001b[0mdrop\u001b[0m\u001b[1;33m(\u001b[0m\u001b[1;33m[\u001b[0m\u001b[1;34m'서울매출액'\u001b[0m\u001b[1;33m,\u001b[0m \u001b[1;34m'서울관객수'\u001b[0m\u001b[1;33m,\u001b[0m \u001b[1;34m'순번'\u001b[0m\u001b[1;33m,\u001b[0m \u001b[1;34m'영화유형'\u001b[0m\u001b[1;33m,\u001b[0m \u001b[1;34m'제작사'\u001b[0m\u001b[1;33m,\u001b[0m \u001b[1;34m'등급'\u001b[0m\u001b[1;33m,\u001b[0m \u001b[1;34m'수입사'\u001b[0m\u001b[1;33m,\u001b[0m \u001b[1;34m'배급사'\u001b[0m\u001b[1;33m]\u001b[0m\u001b[1;33m,\u001b[0m \u001b[0maxis\u001b[0m\u001b[1;33m=\u001b[0m\u001b[1;36m1\u001b[0m\u001b[1;33m,\u001b[0m \u001b[0minplace\u001b[0m\u001b[1;33m=\u001b[0m\u001b[1;32mTrue\u001b[0m\u001b[1;33m)\u001b[0m\u001b[1;33m\u001b[0m\u001b[1;33m\u001b[0m\u001b[0m\n\u001b[0m",
      "\u001b[1;32m~\\anaconda3\\lib\\site-packages\\pandas\\core\\frame.py\u001b[0m in \u001b[0;36mdrop\u001b[1;34m(self, labels, axis, index, columns, level, inplace, errors)\u001b[0m\n\u001b[0;32m   3988\u001b[0m                 \u001b[0mweight\u001b[0m  \u001b[1;36m1.0\u001b[0m     \u001b[1;36m0.8\u001b[0m\u001b[1;33m\u001b[0m\u001b[1;33m\u001b[0m\u001b[0m\n\u001b[0;32m   3989\u001b[0m         \"\"\"\n\u001b[1;32m-> 3990\u001b[1;33m         return super().drop(\n\u001b[0m\u001b[0;32m   3991\u001b[0m             \u001b[0mlabels\u001b[0m\u001b[1;33m=\u001b[0m\u001b[0mlabels\u001b[0m\u001b[1;33m,\u001b[0m\u001b[1;33m\u001b[0m\u001b[1;33m\u001b[0m\u001b[0m\n\u001b[0;32m   3992\u001b[0m             \u001b[0maxis\u001b[0m\u001b[1;33m=\u001b[0m\u001b[0maxis\u001b[0m\u001b[1;33m,\u001b[0m\u001b[1;33m\u001b[0m\u001b[1;33m\u001b[0m\u001b[0m\n",
      "\u001b[1;32m~\\anaconda3\\lib\\site-packages\\pandas\\core\\generic.py\u001b[0m in \u001b[0;36mdrop\u001b[1;34m(self, labels, axis, index, columns, level, inplace, errors)\u001b[0m\n\u001b[0;32m   3934\u001b[0m         \u001b[1;32mfor\u001b[0m \u001b[0maxis\u001b[0m\u001b[1;33m,\u001b[0m \u001b[0mlabels\u001b[0m \u001b[1;32min\u001b[0m \u001b[0maxes\u001b[0m\u001b[1;33m.\u001b[0m\u001b[0mitems\u001b[0m\u001b[1;33m(\u001b[0m\u001b[1;33m)\u001b[0m\u001b[1;33m:\u001b[0m\u001b[1;33m\u001b[0m\u001b[1;33m\u001b[0m\u001b[0m\n\u001b[0;32m   3935\u001b[0m             \u001b[1;32mif\u001b[0m \u001b[0mlabels\u001b[0m \u001b[1;32mis\u001b[0m \u001b[1;32mnot\u001b[0m \u001b[1;32mNone\u001b[0m\u001b[1;33m:\u001b[0m\u001b[1;33m\u001b[0m\u001b[1;33m\u001b[0m\u001b[0m\n\u001b[1;32m-> 3936\u001b[1;33m                 \u001b[0mobj\u001b[0m \u001b[1;33m=\u001b[0m \u001b[0mobj\u001b[0m\u001b[1;33m.\u001b[0m\u001b[0m_drop_axis\u001b[0m\u001b[1;33m(\u001b[0m\u001b[0mlabels\u001b[0m\u001b[1;33m,\u001b[0m \u001b[0maxis\u001b[0m\u001b[1;33m,\u001b[0m \u001b[0mlevel\u001b[0m\u001b[1;33m=\u001b[0m\u001b[0mlevel\u001b[0m\u001b[1;33m,\u001b[0m \u001b[0merrors\u001b[0m\u001b[1;33m=\u001b[0m\u001b[0merrors\u001b[0m\u001b[1;33m)\u001b[0m\u001b[1;33m\u001b[0m\u001b[1;33m\u001b[0m\u001b[0m\n\u001b[0m\u001b[0;32m   3937\u001b[0m \u001b[1;33m\u001b[0m\u001b[0m\n\u001b[0;32m   3938\u001b[0m         \u001b[1;32mif\u001b[0m \u001b[0minplace\u001b[0m\u001b[1;33m:\u001b[0m\u001b[1;33m\u001b[0m\u001b[1;33m\u001b[0m\u001b[0m\n",
      "\u001b[1;32m~\\anaconda3\\lib\\site-packages\\pandas\\core\\generic.py\u001b[0m in \u001b[0;36m_drop_axis\u001b[1;34m(self, labels, axis, level, errors)\u001b[0m\n\u001b[0;32m   3968\u001b[0m                 \u001b[0mnew_axis\u001b[0m \u001b[1;33m=\u001b[0m \u001b[0maxis\u001b[0m\u001b[1;33m.\u001b[0m\u001b[0mdrop\u001b[0m\u001b[1;33m(\u001b[0m\u001b[0mlabels\u001b[0m\u001b[1;33m,\u001b[0m \u001b[0mlevel\u001b[0m\u001b[1;33m=\u001b[0m\u001b[0mlevel\u001b[0m\u001b[1;33m,\u001b[0m \u001b[0merrors\u001b[0m\u001b[1;33m=\u001b[0m\u001b[0merrors\u001b[0m\u001b[1;33m)\u001b[0m\u001b[1;33m\u001b[0m\u001b[1;33m\u001b[0m\u001b[0m\n\u001b[0;32m   3969\u001b[0m             \u001b[1;32melse\u001b[0m\u001b[1;33m:\u001b[0m\u001b[1;33m\u001b[0m\u001b[1;33m\u001b[0m\u001b[0m\n\u001b[1;32m-> 3970\u001b[1;33m                 \u001b[0mnew_axis\u001b[0m \u001b[1;33m=\u001b[0m \u001b[0maxis\u001b[0m\u001b[1;33m.\u001b[0m\u001b[0mdrop\u001b[0m\u001b[1;33m(\u001b[0m\u001b[0mlabels\u001b[0m\u001b[1;33m,\u001b[0m \u001b[0merrors\u001b[0m\u001b[1;33m=\u001b[0m\u001b[0merrors\u001b[0m\u001b[1;33m)\u001b[0m\u001b[1;33m\u001b[0m\u001b[1;33m\u001b[0m\u001b[0m\n\u001b[0m\u001b[0;32m   3971\u001b[0m             \u001b[0mresult\u001b[0m \u001b[1;33m=\u001b[0m \u001b[0mself\u001b[0m\u001b[1;33m.\u001b[0m\u001b[0mreindex\u001b[0m\u001b[1;33m(\u001b[0m\u001b[1;33m**\u001b[0m\u001b[1;33m{\u001b[0m\u001b[0maxis_name\u001b[0m\u001b[1;33m:\u001b[0m \u001b[0mnew_axis\u001b[0m\u001b[1;33m}\u001b[0m\u001b[1;33m)\u001b[0m\u001b[1;33m\u001b[0m\u001b[1;33m\u001b[0m\u001b[0m\n\u001b[0;32m   3972\u001b[0m \u001b[1;33m\u001b[0m\u001b[0m\n",
      "\u001b[1;32m~\\anaconda3\\lib\\site-packages\\pandas\\core\\indexes\\base.py\u001b[0m in \u001b[0;36mdrop\u001b[1;34m(self, labels, errors)\u001b[0m\n\u001b[0;32m   5016\u001b[0m         \u001b[1;32mif\u001b[0m \u001b[0mmask\u001b[0m\u001b[1;33m.\u001b[0m\u001b[0many\u001b[0m\u001b[1;33m(\u001b[0m\u001b[1;33m)\u001b[0m\u001b[1;33m:\u001b[0m\u001b[1;33m\u001b[0m\u001b[1;33m\u001b[0m\u001b[0m\n\u001b[0;32m   5017\u001b[0m             \u001b[1;32mif\u001b[0m \u001b[0merrors\u001b[0m \u001b[1;33m!=\u001b[0m \u001b[1;34m\"ignore\"\u001b[0m\u001b[1;33m:\u001b[0m\u001b[1;33m\u001b[0m\u001b[1;33m\u001b[0m\u001b[0m\n\u001b[1;32m-> 5018\u001b[1;33m                 \u001b[1;32mraise\u001b[0m \u001b[0mKeyError\u001b[0m\u001b[1;33m(\u001b[0m\u001b[1;34mf\"{labels[mask]} not found in axis\"\u001b[0m\u001b[1;33m)\u001b[0m\u001b[1;33m\u001b[0m\u001b[1;33m\u001b[0m\u001b[0m\n\u001b[0m\u001b[0;32m   5019\u001b[0m             \u001b[0mindexer\u001b[0m \u001b[1;33m=\u001b[0m \u001b[0mindexer\u001b[0m\u001b[1;33m[\u001b[0m\u001b[1;33m~\u001b[0m\u001b[0mmask\u001b[0m\u001b[1;33m]\u001b[0m\u001b[1;33m\u001b[0m\u001b[1;33m\u001b[0m\u001b[0m\n\u001b[0;32m   5020\u001b[0m         \u001b[1;32mreturn\u001b[0m \u001b[0mself\u001b[0m\u001b[1;33m.\u001b[0m\u001b[0mdelete\u001b[0m\u001b[1;33m(\u001b[0m\u001b[0mindexer\u001b[0m\u001b[1;33m)\u001b[0m\u001b[1;33m\u001b[0m\u001b[1;33m\u001b[0m\u001b[0m\n",
      "\u001b[1;31mKeyError\u001b[0m: \"['서울매출액' '서울관객수' '순번' '영화유형' '제작사' '등급' '수입사'] not found in axis\""
     ]
    }
   ],
   "source": [
    "df.drop(['서울매출액', '서울관객수', '순번', '영화유형', '제작사', '등급', '수입사'], axis=1, inplace=True)"
   ]
  },
  {
   "cell_type": "code",
   "execution_count": 23,
   "metadata": {},
   "outputs": [],
   "source": [
    "df.drop(['배급사'], axis=1, inplace=True)"
   ]
  },
  {
   "cell_type": "code",
   "execution_count": 24,
   "metadata": {},
   "outputs": [
    {
     "data": {
      "text/html": [
       "<div>\n",
       "<style scoped>\n",
       "    .dataframe tbody tr th:only-of-type {\n",
       "        vertical-align: middle;\n",
       "    }\n",
       "\n",
       "    .dataframe tbody tr th {\n",
       "        vertical-align: top;\n",
       "    }\n",
       "\n",
       "    .dataframe thead th {\n",
       "        text-align: right;\n",
       "    }\n",
       "</style>\n",
       "<table border=\"1\" class=\"dataframe\">\n",
       "  <thead>\n",
       "    <tr style=\"text-align: right;\">\n",
       "      <th></th>\n",
       "      <th>영화명</th>\n",
       "      <th>감독</th>\n",
       "      <th>개봉일</th>\n",
       "      <th>영화형태</th>\n",
       "      <th>국적</th>\n",
       "      <th>스큰린수</th>\n",
       "      <th>매출액</th>\n",
       "      <th>관객수</th>\n",
       "      <th>장르</th>\n",
       "      <th>영화구분</th>\n",
       "    </tr>\n",
       "  </thead>\n",
       "  <tbody>\n",
       "    <tr>\n",
       "      <th>1</th>\n",
       "      <td>명량</td>\n",
       "      <td>김한민</td>\n",
       "      <td>2014-07-30</td>\n",
       "      <td>장편</td>\n",
       "      <td>한국</td>\n",
       "      <td>1,587</td>\n",
       "      <td>135,748,398,910</td>\n",
       "      <td>17,613,682</td>\n",
       "      <td>사극</td>\n",
       "      <td>일반영화</td>\n",
       "    </tr>\n",
       "    <tr>\n",
       "      <th>2</th>\n",
       "      <td>극한직업</td>\n",
       "      <td>이병헌</td>\n",
       "      <td>2019-01-23</td>\n",
       "      <td>장편</td>\n",
       "      <td>한국</td>\n",
       "      <td>1,978</td>\n",
       "      <td>139,647,979,516</td>\n",
       "      <td>16,264,944</td>\n",
       "      <td>코미디</td>\n",
       "      <td>일반영화</td>\n",
       "    </tr>\n",
       "    <tr>\n",
       "      <th>3</th>\n",
       "      <td>신과함께-죄와 벌</td>\n",
       "      <td>김용화</td>\n",
       "      <td>2017-12-20</td>\n",
       "      <td>장편</td>\n",
       "      <td>한국</td>\n",
       "      <td>1,912</td>\n",
       "      <td>115,698,654,137</td>\n",
       "      <td>14,410,754</td>\n",
       "      <td>판타지</td>\n",
       "      <td>일반영화</td>\n",
       "    </tr>\n",
       "  </tbody>\n",
       "</table>\n",
       "</div>"
      ],
      "text/plain": [
       "         영화명   감독         개봉일 영화형태  국적   스큰린수              매출액         관객수  \\\n",
       "1         명량  김한민  2014-07-30   장편  한국  1,587  135,748,398,910  17,613,682   \n",
       "2       극한직업  이병헌  2019-01-23   장편  한국  1,978  139,647,979,516  16,264,944   \n",
       "3  신과함께-죄와 벌  김용화  2017-12-20   장편  한국  1,912  115,698,654,137  14,410,754   \n",
       "\n",
       "    장르  영화구분  \n",
       "1   사극  일반영화  \n",
       "2  코미디  일반영화  \n",
       "3  판타지  일반영화  "
      ]
     },
     "execution_count": 24,
     "metadata": {},
     "output_type": "execute_result"
    }
   ],
   "source": [
    "df.head(3)"
   ]
  },
  {
   "cell_type": "code",
   "execution_count": 25,
   "metadata": {
    "collapsed": true
   },
   "outputs": [
    {
     "name": "stdout",
     "output_type": "stream",
     "text": [
      "<class 'pandas.core.frame.DataFrame'>\n",
      "Int64Index: 19704 entries, 1 to 19704\n",
      "Data columns (total 10 columns):\n",
      " #   Column  Non-Null Count  Dtype \n",
      "---  ------  --------------  ----- \n",
      " 0   영화명     19704 non-null  object\n",
      " 1   감독      19150 non-null  object\n",
      " 2   개봉일     19686 non-null  object\n",
      " 3   영화형태    19690 non-null  object\n",
      " 4   국적      19695 non-null  object\n",
      " 5   스큰린수    19704 non-null  object\n",
      " 6   매출액     19477 non-null  object\n",
      " 7   관객수     19704 non-null  object\n",
      " 8   장르      19603 non-null  object\n",
      " 9   영화구분    19704 non-null  object\n",
      "dtypes: object(10)\n",
      "memory usage: 1.7+ MB\n"
     ]
    }
   ],
   "source": [
    "df.info()"
   ]
  },
  {
   "cell_type": "code",
   "execution_count": 26,
   "metadata": {},
   "outputs": [],
   "source": [
    "# 칼럼별 null값의 계산"
   ]
  },
  {
   "cell_type": "code",
   "execution_count": 31,
   "metadata": {
    "collapsed": true
   },
   "outputs": [
    {
     "data": {
      "text/plain": [
       "영화명       0\n",
       "감독      554\n",
       "개봉일      18\n",
       "영화형태     14\n",
       "국적        9\n",
       "스큰린수      0\n",
       "매출액     227\n",
       "관객수       0\n",
       "장르      101\n",
       "영화구분      0\n",
       "dtype: int64"
      ]
     },
     "execution_count": 31,
     "metadata": {},
     "output_type": "execute_result"
    }
   ],
   "source": [
    "df.isnull().sum()"
   ]
  },
  {
   "cell_type": "code",
   "execution_count": 32,
   "metadata": {},
   "outputs": [],
   "source": [
    "# 국적별 영화매출액 상위 10개국, var chart"
   ]
  },
  {
   "cell_type": "code",
   "execution_count": 37,
   "metadata": {},
   "outputs": [],
   "source": [
    "df.fillna(0, inplace=True)"
   ]
  },
  {
   "cell_type": "code",
   "execution_count": 38,
   "metadata": {
    "collapsed": true
   },
   "outputs": [
    {
     "name": "stdout",
     "output_type": "stream",
     "text": [
      "<class 'pandas.core.frame.DataFrame'>\n",
      "Int64Index: 19704 entries, 1 to 19704\n",
      "Data columns (total 10 columns):\n",
      " #   Column  Non-Null Count  Dtype \n",
      "---  ------  --------------  ----- \n",
      " 0   영화명     19704 non-null  object\n",
      " 1   감독      19704 non-null  object\n",
      " 2   개봉일     19704 non-null  object\n",
      " 3   영화형태    19704 non-null  object\n",
      " 4   국적      19704 non-null  object\n",
      " 5   스큰린수    19704 non-null  object\n",
      " 6   매출액     19704 non-null  object\n",
      " 7   관객수     19704 non-null  object\n",
      " 8   장르      19704 non-null  object\n",
      " 9   영화구분    19704 non-null  object\n",
      "dtypes: object(10)\n",
      "memory usage: 2.3+ MB\n"
     ]
    }
   ],
   "source": [
    "df.info()"
   ]
  },
  {
   "cell_type": "code",
   "execution_count": 40,
   "metadata": {},
   "outputs": [
    {
     "data": {
      "text/plain": [
       "'135748398910'"
      ]
     },
     "execution_count": 40,
     "metadata": {},
     "output_type": "execute_result"
    }
   ],
   "source": [
    "df['매출액'].values[0].replace(',', '')"
   ]
  },
  {
   "cell_type": "code",
   "execution_count": 42,
   "metadata": {},
   "outputs": [],
   "source": [
    "df['매출액'] = df['매출액'].apply(lambda x: int(str(x).replace(',', '')))\n",
    "df['스큰린수'] = df['스큰린수'].apply(lambda x: int(str(x).replace(',', '')))\n",
    "df['관객수'] = df['관객수'].apply(lambda x: int(str(x).replace(',', '')))"
   ]
  },
  {
   "cell_type": "code",
   "execution_count": 43,
   "metadata": {
    "collapsed": true
   },
   "outputs": [
    {
     "name": "stdout",
     "output_type": "stream",
     "text": [
      "<class 'pandas.core.frame.DataFrame'>\n",
      "Int64Index: 19704 entries, 1 to 19704\n",
      "Data columns (total 10 columns):\n",
      " #   Column  Non-Null Count  Dtype \n",
      "---  ------  --------------  ----- \n",
      " 0   영화명     19704 non-null  object\n",
      " 1   감독      19704 non-null  object\n",
      " 2   개봉일     19704 non-null  object\n",
      " 3   영화형태    19704 non-null  object\n",
      " 4   국적      19704 non-null  object\n",
      " 5   스큰린수    19704 non-null  int64 \n",
      " 6   매출액     19704 non-null  int64 \n",
      " 7   관객수     19704 non-null  int64 \n",
      " 8   장르      19704 non-null  object\n",
      " 9   영화구분    19704 non-null  object\n",
      "dtypes: int64(3), object(7)\n",
      "memory usage: 2.3+ MB\n"
     ]
    }
   ],
   "source": [
    "df.info()"
   ]
  },
  {
   "cell_type": "code",
   "execution_count": 53,
   "metadata": {},
   "outputs": [
    {
     "data": {
      "text/plain": [
       "<matplotlib.axes._subplots.AxesSubplot at 0x1f578efad30>"
      ]
     },
     "execution_count": 53,
     "metadata": {},
     "output_type": "execute_result"
    },
    {
     "data": {
      "image/png": "[encoded data removed]",
      "text/plain": [
       "<Figure size 432x288 with 1 Axes>"
      ]
     },
     "metadata": {
      "needs_background": "light"
     },
     "output_type": "display_data"
    }
   ],
   "source": [
    "df.groupby('국적')['매출액'].sum().sort_values(ascending=False)[:10].plot(kind='bar')"
   ]
  },
  {
   "cell_type": "code",
   "execution_count": 57,
   "metadata": {},
   "outputs": [
    {
     "data": {
      "text/html": [
       "<div>\n",
       "<style scoped>\n",
       "    .dataframe tbody tr th:only-of-type {\n",
       "        vertical-align: middle;\n",
       "    }\n",
       "\n",
       "    .dataframe tbody tr th {\n",
       "        vertical-align: top;\n",
       "    }\n",
       "\n",
       "    .dataframe thead th {\n",
       "        text-align: right;\n",
       "    }\n",
       "</style>\n",
       "<table border=\"1\" class=\"dataframe\">\n",
       "  <thead>\n",
       "    <tr style=\"text-align: right;\">\n",
       "      <th></th>\n",
       "      <th>영화명</th>\n",
       "      <th>감독</th>\n",
       "      <th>개봉일</th>\n",
       "      <th>영화형태</th>\n",
       "      <th>국적</th>\n",
       "      <th>스크린수</th>\n",
       "      <th>매출액</th>\n",
       "      <th>관객수</th>\n",
       "      <th>장르</th>\n",
       "      <th>영화구분</th>\n",
       "    </tr>\n",
       "  </thead>\n",
       "  <tbody>\n",
       "    <tr>\n",
       "      <th>1</th>\n",
       "      <td>명량</td>\n",
       "      <td>김한민</td>\n",
       "      <td>2014-07-30</td>\n",
       "      <td>장편</td>\n",
       "      <td>한국</td>\n",
       "      <td>1587</td>\n",
       "      <td>135748398910</td>\n",
       "      <td>17613682</td>\n",
       "      <td>사극</td>\n",
       "      <td>일반영화</td>\n",
       "    </tr>\n",
       "    <tr>\n",
       "      <th>2</th>\n",
       "      <td>극한직업</td>\n",
       "      <td>이병헌</td>\n",
       "      <td>2019-01-23</td>\n",
       "      <td>장편</td>\n",
       "      <td>한국</td>\n",
       "      <td>1978</td>\n",
       "      <td>139647979516</td>\n",
       "      <td>16264944</td>\n",
       "      <td>코미디</td>\n",
       "      <td>일반영화</td>\n",
       "    </tr>\n",
       "  </tbody>\n",
       "</table>\n",
       "</div>"
      ],
      "text/plain": [
       "    영화명   감독         개봉일 영화형태  국적  스크린수           매출액       관객수   장르  영화구분\n",
       "1    명량  김한민  2014-07-30   장편  한국  1587  135748398910  17613682   사극  일반영화\n",
       "2  극한직업  이병헌  2019-01-23   장편  한국  1978  139647979516  16264944  코미디  일반영화"
      ]
     },
     "execution_count": 57,
     "metadata": {},
     "output_type": "execute_result"
    }
   ],
   "source": [
    "# 스크린수와 매출액의 관계를 분포그래프로 표시\n",
    "# 역대 관객수가 최대인 영화는 무엇인가?\n",
    "# 스크린수 대비 매출액이 최대인 영화는 무엇인가?\n",
    "# 평균매출이 가장 높은 장르는 무엇인가?\n",
    "# 연도별 개봉영화수 추이를 line chart로 표시하시오\n",
    "# 12개월 중 영화개봉수가 가장 많은 달과 적은 달을 표시하시오.\n",
    "# 역대 평균 관객수가 가장 많은 감독은 누구인가?\n",
    "df.head(2)"
   ]
  },
  {
   "cell_type": "code",
   "execution_count": 97,
   "metadata": {},
   "outputs": [
    {
     "data": {
      "text/plain": [
       "<seaborn.axisgrid.FacetGrid at 0x1f57a117970>"
      ]
     },
     "execution_count": 97,
     "metadata": {},
     "output_type": "execute_result"
    },
    {
     "data": {
      "image/png": "[encoded data removed]",
      "text/plain": [
       "<Figure size 360x360 with 1 Axes>"
      ]
     },
     "metadata": {
      "needs_background": "light"
     },
     "output_type": "display_data"
    }
   ],
   "source": [
    "# 스크린수와 매출액의 관계를 분포그래프로 표시 그리고 회귀직선을 나타내시오\n",
    "sns.lmplot(x='스크린수', y='매출액', data=df)"
   ]
  },
  {
   "cell_type": "code",
   "execution_count": 107,
   "metadata": {},
   "outputs": [
    {
     "data": {
      "text/plain": [
       "<seaborn.axisgrid.JointGrid at 0x1f57a08a640>"
      ]
     },
     "execution_count": 107,
     "metadata": {},
     "output_type": "execute_result"
    },
    {
     "data": {
      "image/png": "[encoded data removed]",
      "text/plain": [
       "<Figure size 432x432 with 3 Axes>"
      ]
     },
     "metadata": {
      "needs_background": "light"
     },
     "output_type": "display_data"
    }
   ],
   "source": [
    "sns.jointplot(x='스크린수', y='매출액', data=df)"
   ]
  },
  {
   "cell_type": "code",
   "execution_count": 109,
   "metadata": {},
   "outputs": [
    {
     "data": {
      "text/html": [
       "<div>\n",
       "<style scoped>\n",
       "    .dataframe tbody tr th:only-of-type {\n",
       "        vertical-align: middle;\n",
       "    }\n",
       "\n",
       "    .dataframe tbody tr th {\n",
       "        vertical-align: top;\n",
       "    }\n",
       "\n",
       "    .dataframe thead th {\n",
       "        text-align: right;\n",
       "    }\n",
       "</style>\n",
       "<table border=\"1\" class=\"dataframe\">\n",
       "  <thead>\n",
       "    <tr style=\"text-align: right;\">\n",
       "      <th></th>\n",
       "      <th>영화명</th>\n",
       "      <th>감독</th>\n",
       "      <th>개봉일</th>\n",
       "      <th>영화형태</th>\n",
       "      <th>국적</th>\n",
       "      <th>스크린수</th>\n",
       "      <th>매출액</th>\n",
       "      <th>관객수</th>\n",
       "      <th>장르</th>\n",
       "      <th>영화구분</th>\n",
       "      <th>스크린수 대비 매출액</th>\n",
       "      <th>개봉년도</th>\n",
       "      <th>개봉월</th>\n",
       "    </tr>\n",
       "  </thead>\n",
       "  <tbody>\n",
       "    <tr>\n",
       "      <th>1</th>\n",
       "      <td>명량</td>\n",
       "      <td>김한민</td>\n",
       "      <td>2014-07-30</td>\n",
       "      <td>장편</td>\n",
       "      <td>한국</td>\n",
       "      <td>1587</td>\n",
       "      <td>135748398910</td>\n",
       "      <td>17613682</td>\n",
       "      <td>사극</td>\n",
       "      <td>일반영화</td>\n",
       "      <td>8.553774e+07</td>\n",
       "      <td>2014</td>\n",
       "      <td>07</td>\n",
       "    </tr>\n",
       "  </tbody>\n",
       "</table>\n",
       "</div>"
      ],
      "text/plain": [
       "  영화명   감독         개봉일 영화형태  국적  스크린수           매출액       관객수  장르  영화구분  \\\n",
       "1  명량  김한민  2014-07-30   장편  한국  1587  135748398910  17613682  사극  일반영화   \n",
       "\n",
       "    스크린수 대비 매출액  개봉년도 개봉월  \n",
       "1  8.553774e+07  2014  07  "
      ]
     },
     "execution_count": 109,
     "metadata": {},
     "output_type": "execute_result"
    }
   ],
   "source": [
    "# 역대 관객수가 최대인 영화는 무엇인가?\n",
    "df[df['관객수']==df['관객수'].max()]"
   ]
  },
  {
   "cell_type": "code",
   "execution_count": 111,
   "metadata": {},
   "outputs": [
    {
     "data": {
      "text/html": [
       "<div>\n",
       "<style scoped>\n",
       "    .dataframe tbody tr th:only-of-type {\n",
       "        vertical-align: middle;\n",
       "    }\n",
       "\n",
       "    .dataframe tbody tr th {\n",
       "        vertical-align: top;\n",
       "    }\n",
       "\n",
       "    .dataframe thead th {\n",
       "        text-align: right;\n",
       "    }\n",
       "</style>\n",
       "<table border=\"1\" class=\"dataframe\">\n",
       "  <thead>\n",
       "    <tr style=\"text-align: right;\">\n",
       "      <th></th>\n",
       "      <th>영화명</th>\n",
       "      <th>감독</th>\n",
       "      <th>개봉일</th>\n",
       "      <th>영화형태</th>\n",
       "      <th>국적</th>\n",
       "      <th>스크린수</th>\n",
       "      <th>매출액</th>\n",
       "      <th>관객수</th>\n",
       "      <th>장르</th>\n",
       "      <th>영화구분</th>\n",
       "      <th>스크린수 대비 매출액</th>\n",
       "      <th>개봉년도</th>\n",
       "      <th>개봉월</th>\n",
       "    </tr>\n",
       "  </thead>\n",
       "  <tbody>\n",
       "    <tr>\n",
       "      <th>258</th>\n",
       "      <td>워낭소리</td>\n",
       "      <td>이충렬</td>\n",
       "      <td>2009-01-15</td>\n",
       "      <td>장편</td>\n",
       "      <td>한국</td>\n",
       "      <td>20</td>\n",
       "      <td>19259975032</td>\n",
       "      <td>2962897</td>\n",
       "      <td>다큐멘터리</td>\n",
       "      <td>독립/예술영화</td>\n",
       "      <td>9.629988e+08</td>\n",
       "      <td>2009</td>\n",
       "      <td>01</td>\n",
       "    </tr>\n",
       "    <tr>\n",
       "      <th>2361</th>\n",
       "      <td>위대한 침묵</td>\n",
       "      <td>필립 그로닝</td>\n",
       "      <td>2009-12-03</td>\n",
       "      <td>장편</td>\n",
       "      <td>독일</td>\n",
       "      <td>1</td>\n",
       "      <td>698077950</td>\n",
       "      <td>96824</td>\n",
       "      <td>다큐멘터리</td>\n",
       "      <td>독립/예술영화</td>\n",
       "      <td>6.980780e+08</td>\n",
       "      <td>2009</td>\n",
       "      <td>12</td>\n",
       "    </tr>\n",
       "    <tr>\n",
       "      <th>2357</th>\n",
       "      <td>소명</td>\n",
       "      <td>신현원</td>\n",
       "      <td>2009-04-02</td>\n",
       "      <td>장편</td>\n",
       "      <td>한국</td>\n",
       "      <td>1</td>\n",
       "      <td>609575196</td>\n",
       "      <td>97092</td>\n",
       "      <td>다큐멘터리</td>\n",
       "      <td>독립/예술영화</td>\n",
       "      <td>6.095752e+08</td>\n",
       "      <td>2009</td>\n",
       "      <td>04</td>\n",
       "    </tr>\n",
       "    <tr>\n",
       "      <th>2001</th>\n",
       "      <td>회복</td>\n",
       "      <td>김종철</td>\n",
       "      <td>2010-01-14</td>\n",
       "      <td>장편</td>\n",
       "      <td>한국</td>\n",
       "      <td>2</td>\n",
       "      <td>1128545852</td>\n",
       "      <td>157793</td>\n",
       "      <td>다큐멘터리</td>\n",
       "      <td>독립/예술영화</td>\n",
       "      <td>5.642729e+08</td>\n",
       "      <td>2010</td>\n",
       "      <td>01</td>\n",
       "    </tr>\n",
       "    <tr>\n",
       "      <th>3120</th>\n",
       "      <td>서태지밴드 라이브 투어 &lt;더 뫼비우스&gt;</td>\n",
       "      <td>서태지</td>\n",
       "      <td>2010-05-21</td>\n",
       "      <td>장편</td>\n",
       "      <td>한국</td>\n",
       "      <td>1</td>\n",
       "      <td>259638481</td>\n",
       "      <td>34688</td>\n",
       "      <td>다큐멘터리</td>\n",
       "      <td>독립/예술영화</td>\n",
       "      <td>2.596385e+08</td>\n",
       "      <td>2010</td>\n",
       "      <td>05</td>\n",
       "    </tr>\n",
       "    <tr>\n",
       "      <th>122</th>\n",
       "      <td>님아, 그 강을 건너지 마오</td>\n",
       "      <td>진모영</td>\n",
       "      <td>2014-11-27</td>\n",
       "      <td>장편</td>\n",
       "      <td>한국</td>\n",
       "      <td>206</td>\n",
       "      <td>37354452679</td>\n",
       "      <td>4801355</td>\n",
       "      <td>다큐멘터리</td>\n",
       "      <td>독립/예술영화</td>\n",
       "      <td>1.813323e+08</td>\n",
       "      <td>2014</td>\n",
       "      <td>11</td>\n",
       "    </tr>\n",
       "    <tr>\n",
       "      <th>3305</th>\n",
       "      <td>더 폴: 오디어스와 환상의 문</td>\n",
       "      <td>타셈 싱</td>\n",
       "      <td>2008-12-04</td>\n",
       "      <td>장편</td>\n",
       "      <td>인도</td>\n",
       "      <td>1</td>\n",
       "      <td>180180144</td>\n",
       "      <td>26777</td>\n",
       "      <td>드라마</td>\n",
       "      <td>독립/예술영화</td>\n",
       "      <td>1.801801e+08</td>\n",
       "      <td>2008</td>\n",
       "      <td>12</td>\n",
       "    </tr>\n",
       "    <tr>\n",
       "      <th>6</th>\n",
       "      <td>아바타</td>\n",
       "      <td>제임스 카메론</td>\n",
       "      <td>2009-12-17</td>\n",
       "      <td>장편</td>\n",
       "      <td>미국</td>\n",
       "      <td>912</td>\n",
       "      <td>128447097523</td>\n",
       "      <td>13624328</td>\n",
       "      <td>SF</td>\n",
       "      <td>독립/예술영화</td>\n",
       "      <td>1.408411e+08</td>\n",
       "      <td>2009</td>\n",
       "      <td>12</td>\n",
       "    </tr>\n",
       "    <tr>\n",
       "      <th>3649</th>\n",
       "      <td>2008 서태지 심포니 위드 톨가 카쉬프 로열필하모닉</td>\n",
       "      <td>서태지</td>\n",
       "      <td>2010-01-22</td>\n",
       "      <td>장편</td>\n",
       "      <td>한국</td>\n",
       "      <td>1</td>\n",
       "      <td>138299384</td>\n",
       "      <td>17563</td>\n",
       "      <td>공연</td>\n",
       "      <td>독립/예술영화</td>\n",
       "      <td>1.382994e+08</td>\n",
       "      <td>2010</td>\n",
       "      <td>01</td>\n",
       "    </tr>\n",
       "    <tr>\n",
       "      <th>3332</th>\n",
       "      <td>전원사형</td>\n",
       "      <td>코바야시 유키</td>\n",
       "      <td>2019-05-13</td>\n",
       "      <td>장편</td>\n",
       "      <td>일본</td>\n",
       "      <td>1</td>\n",
       "      <td>137482280</td>\n",
       "      <td>25815</td>\n",
       "      <td>드라마</td>\n",
       "      <td>일반영화</td>\n",
       "      <td>1.374823e+08</td>\n",
       "      <td>2019</td>\n",
       "      <td>05</td>\n",
       "    </tr>\n",
       "  </tbody>\n",
       "</table>\n",
       "</div>"
      ],
      "text/plain": [
       "                                영화명       감독         개봉일 영화형태  국적  스크린수  \\\n",
       "258                            워낭소리      이충렬  2009-01-15   장편  한국    20   \n",
       "2361                         위대한 침묵   필립 그로닝  2009-12-03   장편  독일     1   \n",
       "2357                             소명      신현원  2009-04-02   장편  한국     1   \n",
       "2001                             회복      김종철  2010-01-14   장편  한국     2   \n",
       "3120          서태지밴드 라이브 투어 <더 뫼비우스>      서태지  2010-05-21   장편  한국     1   \n",
       "122                 님아, 그 강을 건너지 마오      진모영  2014-11-27   장편  한국   206   \n",
       "3305               더 폴: 오디어스와 환상의 문     타셈 싱  2008-12-04   장편  인도     1   \n",
       "6                               아바타  제임스 카메론  2009-12-17   장편  미국   912   \n",
       "3649  2008 서태지 심포니 위드 톨가 카쉬프 로열필하모닉      서태지  2010-01-22   장편  한국     1   \n",
       "3332                           전원사형  코바야시 유키  2019-05-13   장편  일본     1   \n",
       "\n",
       "               매출액       관객수     장르     영화구분   스크린수 대비 매출액  개봉년도 개봉월  \n",
       "258    19259975032   2962897  다큐멘터리  독립/예술영화  9.629988e+08  2009  01  \n",
       "2361     698077950     96824  다큐멘터리  독립/예술영화  6.980780e+08  2009  12  \n",
       "2357     609575196     97092  다큐멘터리  독립/예술영화  6.095752e+08  2009  04  \n",
       "2001    1128545852    157793  다큐멘터리  독립/예술영화  5.642729e+08  2010  01  \n",
       "3120     259638481     34688  다큐멘터리  독립/예술영화  2.596385e+08  2010  05  \n",
       "122    37354452679   4801355  다큐멘터리  독립/예술영화  1.813323e+08  2014  11  \n",
       "3305     180180144     26777    드라마  독립/예술영화  1.801801e+08  2008  12  \n",
       "6     128447097523  13624328     SF  독립/예술영화  1.408411e+08  2009  12  \n",
       "3649     138299384     17563     공연  독립/예술영화  1.382994e+08  2010  01  \n",
       "3332     137482280     25815    드라마     일반영화  1.374823e+08  2019  05  "
      ]
     },
     "execution_count": 111,
     "metadata": {},
     "output_type": "execute_result"
    }
   ],
   "source": [
    "# 스크린수 대비 매출액이 최대인 영화는 무엇인가?\n",
    "df['스크린수 대비 매출액'] = df['매출액']/df['스크린수']\n",
    "df[df['스크린수']!=0].sort_values('스크린수 대비 매출액', ascending=False)[:10]"
   ]
  },
  {
   "cell_type": "code",
   "execution_count": 112,
   "metadata": {},
   "outputs": [
    {
     "data": {
      "text/plain": [
       "장르\n",
       "사극      4.059458e+09\n",
       "어드벤처    3.840522e+09\n",
       "판타지     2.889356e+09\n",
       "범죄      2.539399e+09\n",
       "액션      2.010913e+09\n",
       "Name: 매출액, dtype: float64"
      ]
     },
     "execution_count": 112,
     "metadata": {},
     "output_type": "execute_result"
    }
   ],
   "source": [
    "# 평균매출이 가장 높은 장르는 무엇인가?\n",
    "df.groupby('장르')['매출액'].mean().sort_values(ascending=False)[:5]"
   ]
  },
  {
   "cell_type": "code",
   "execution_count": null,
   "metadata": {},
   "outputs": [],
   "source": [
    "# 연도별 개봉영화수 추이를 line chart로 표시하시오\n",
    "drop_idx = df[df['개봉일']==0].index\n",
    "df.drop(drop_idx, inplace=True)"
   ]
  },
  {
   "cell_type": "code",
   "execution_count": 92,
   "metadata": {},
   "outputs": [
    {
     "data": {
      "text/plain": [
       "<matplotlib.axes._subplots.AxesSubplot at 0x1f57909dbe0>"
      ]
     },
     "execution_count": 92,
     "metadata": {},
     "output_type": "execute_result"
    },
    {
     "data": {
      "image/png": "[encoded data removed]",
      "text/plain": [
       "<Figure size 432x288 with 1 Axes>"
      ]
     },
     "metadata": {
      "needs_background": "light"
     },
     "output_type": "display_data"
    }
   ],
   "source": [
    "df['개봉일'][1][:4]\n",
    "df['개봉년도'] = df['개봉일'].apply(lambda x: str(x)[:4])\n",
    "df['개봉년도'].value_counts().sort_index().plot(kind='line')"
   ]
  },
  {
   "cell_type": "code",
   "execution_count": 105,
   "metadata": {},
   "outputs": [
    {
     "data": {
      "text/plain": [
       "11    1796\n",
       "09    1774\n",
       "08    1731\n",
       "12    1707\n",
       "07    1707\n",
       "04    1686\n",
       "05    1630\n",
       "03    1623\n",
       "06    1622\n",
       "10    1547\n",
       "01    1462\n",
       "02    1401\n",
       "        18\n",
       "Name: 개봉월, dtype: int64"
      ]
     },
     "execution_count": 105,
     "metadata": {},
     "output_type": "execute_result"
    }
   ],
   "source": [
    "# 12개월 중 영화개봉수가 가장 많은 달과 적은 달을 표시하시오.\n",
    "df['개봉월'] = df['개봉일'].apply(lambda x: str(x)[5:7])\n",
    "print(df['개봉월'].value_counts()[0])\n",
    "print(df['개봉월'].value_counts()[11])"
   ]
  },
  {
   "cell_type": "code",
   "execution_count": 117,
   "metadata": {},
   "outputs": [
    {
     "data": {
      "text/plain": [
       "<matplotlib.axes._subplots.AxesSubplot at 0x1f57a4847f0>"
      ]
     },
     "execution_count": 117,
     "metadata": {},
     "output_type": "execute_result"
    },
    {
     "data": {
      "image/png": "[encoded data removed]",
      "text/plain": [
       "<Figure size 432x288 with 1 Axes>"
      ]
     },
     "metadata": {
      "needs_background": "light"
     },
     "output_type": "display_data"
    }
   ],
   "source": [
    "df['개봉월'].value_counts().sort_index().plot(kind='bar')"
   ]
  },
  {
   "cell_type": "code",
   "execution_count": 95,
   "metadata": {},
   "outputs": [
    {
     "data": {
      "text/plain": [
       "감독\n",
       "크리스 벅,제니퍼 리    1.029610e+07\n",
       "이일형            9.699092e+06\n",
       "이상근            9.412450e+06\n",
       "안소니 루소,조 루소    8.502261e+06\n",
       "최동훈            8.160619e+06\n",
       "양우석            7.911894e+06\n",
       "윤제균            6.694545e+06\n",
       "김용화            6.607004e+06\n",
       "조스 웨던          5.856877e+06\n",
       "봉준호            5.801123e+06\n",
       "Name: 관객수, dtype: float64"
      ]
     },
     "execution_count": 95,
     "metadata": {},
     "output_type": "execute_result"
    }
   ],
   "source": [
    "# 역대 평균 관객수가 가장 많은 감독은 누구인가?\n",
    "df.groupby('감독')['관객수'].mean().sort_values(ascending=False)[:10]"
   ]
  },
  {
   "cell_type": "code",
   "execution_count": null,
   "metadata": {},
   "outputs": [],
   "source": []
  }
 ],
 "metadata": {
  "kernelspec": {
   "display_name": "Python 3",
   "language": "python",
   "name": "python3"
  },
  "language_info": {
   "codemirror_mode": {
    "name": "ipython",
    "version": 3
   },
   "file_extension": ".py",
   "mimetype": "text/x-python",
   "name": "python",
   "nbconvert_exporter": "python",
   "pygments_lexer": "ipython3",
   "version": "3.8.3"
  }
 },
 "nbformat": 4,
 "nbformat_minor": 4
}
