{
 "cells": [
  {
   "cell_type": "code",
   "execution_count": 2,
   "metadata": {},
   "outputs": [],
   "source": [
    "import pandas as pd\n",
    "import numpy as np\n",
    "import matplotlib.pyplot as plt\n",
    "import seaborn as sns"
   ]
  },
  {
   "cell_type": "code",
   "execution_count": 3,
   "metadata": {},
   "outputs": [],
   "source": [
    "import matplotlib as mpl\n",
    "import matplotlib.font_manager as fm\n",
    "\n",
    "mpl.rcParams['axes.unicode_minus']= False\n",
    "\n",
    "path = 'C:/Windows/Fonts/malgun.ttf'\n",
    "font_name = fm.FontProperties(fname = path, size = 50).get_name()\n",
    "plt.rc('font', family=font_name)"
   ]
  },
  {
   "cell_type": "code",
   "execution_count": 5,
   "metadata": {},
   "outputs": [
    {
     "data": {
      "text/html": [
       "<div>\n",
       "<style scoped>\n",
       "    .dataframe tbody tr th:only-of-type {\n",
       "        vertical-align: middle;\n",
       "    }\n",
       "\n",
       "    .dataframe tbody tr th {\n",
       "        vertical-align: top;\n",
       "    }\n",
       "\n",
       "    .dataframe thead th {\n",
       "        text-align: right;\n",
       "    }\n",
       "</style>\n",
       "<table border=\"1\" class=\"dataframe\">\n",
       "  <thead>\n",
       "    <tr style=\"text-align: right;\">\n",
       "      <th></th>\n",
       "      <th>집계일자</th>\n",
       "      <th>집계시간</th>\n",
       "      <th>영업소명</th>\n",
       "      <th>입구출구구분</th>\n",
       "      <th>통행량</th>\n",
       "    </tr>\n",
       "  </thead>\n",
       "  <tbody>\n",
       "    <tr>\n",
       "      <th>0</th>\n",
       "      <td>20181201</td>\n",
       "      <td>0</td>\n",
       "      <td>가락</td>\n",
       "      <td>0</td>\n",
       "      <td>143</td>\n",
       "    </tr>\n",
       "    <tr>\n",
       "      <th>1</th>\n",
       "      <td>20181201</td>\n",
       "      <td>0</td>\n",
       "      <td>가락</td>\n",
       "      <td>1</td>\n",
       "      <td>178</td>\n",
       "    </tr>\n",
       "    <tr>\n",
       "      <th>2</th>\n",
       "      <td>20181201</td>\n",
       "      <td>0</td>\n",
       "      <td>가락2</td>\n",
       "      <td>0</td>\n",
       "      <td>38</td>\n",
       "    </tr>\n",
       "    <tr>\n",
       "      <th>3</th>\n",
       "      <td>20181201</td>\n",
       "      <td>0</td>\n",
       "      <td>가락2</td>\n",
       "      <td>1</td>\n",
       "      <td>41</td>\n",
       "    </tr>\n",
       "    <tr>\n",
       "      <th>4</th>\n",
       "      <td>20181201</td>\n",
       "      <td>0</td>\n",
       "      <td>가산</td>\n",
       "      <td>0</td>\n",
       "      <td>58</td>\n",
       "    </tr>\n",
       "  </tbody>\n",
       "</table>\n",
       "</div>"
      ],
      "text/plain": [
       "       집계일자  집계시간 영업소명  입구출구구분  통행량\n",
       "0  20181201     0   가락       0  143\n",
       "1  20181201     0   가락       1  178\n",
       "2  20181201     0  가락2       0   38\n",
       "3  20181201     0  가락2       1   41\n",
       "4  20181201     0   가산       0   58"
      ]
     },
     "execution_count": 5,
     "metadata": {},
     "output_type": "execute_result"
    }
   ],
   "source": [
    "df = pd.read_csv('./highway_1812.csv')\n",
    "df.head()"
   ]
  },
  {
   "cell_type": "code",
   "execution_count": 8,
   "metadata": {},
   "outputs": [
    {
     "name": "stdout",
     "output_type": "stream",
     "text": [
      "<class 'pandas.core.frame.DataFrame'>\n",
      "RangeIndex: 585064 entries, 0 to 585063\n",
      "Data columns (total 5 columns):\n",
      " #   Column  Non-Null Count   Dtype \n",
      "---  ------  --------------   ----- \n",
      " 0   집계일자    585064 non-null  object\n",
      " 1   집계시간    585064 non-null  int64 \n",
      " 2   영업소명    585064 non-null  object\n",
      " 3   입구출구구분  585064 non-null  int64 \n",
      " 4   통행량     585064 non-null  int64 \n",
      "dtypes: int64(3), object(2)\n",
      "memory usage: 22.3+ MB\n"
     ]
    }
   ],
   "source": [
    "df.info()"
   ]
  },
  {
   "cell_type": "code",
   "execution_count": 7,
   "metadata": {},
   "outputs": [],
   "source": [
    "df['집계일자'] = df['집계일자'].astype(str)"
   ]
  },
  {
   "cell_type": "code",
   "execution_count": 10,
   "metadata": {},
   "outputs": [],
   "source": [
    "df['집계일자'] = pd.to_datetime(df['집계일자'])"
   ]
  },
  {
   "cell_type": "code",
   "execution_count": 11,
   "metadata": {},
   "outputs": [
    {
     "data": {
      "text/plain": [
       "집계일자      datetime64[ns]\n",
       "집계시간               int64\n",
       "영업소명              object\n",
       "입구출구구분             int64\n",
       "통행량                int64\n",
       "dtype: object"
      ]
     },
     "execution_count": 11,
     "metadata": {},
     "output_type": "execute_result"
    }
   ],
   "source": [
    "df.dtypes"
   ]
  },
  {
   "cell_type": "code",
   "execution_count": 12,
   "metadata": {},
   "outputs": [
    {
     "data": {
      "text/plain": [
       "0         2018-12-01\n",
       "1         2018-12-01\n",
       "2         2018-12-01\n",
       "3         2018-12-01\n",
       "4         2018-12-01\n",
       "             ...    \n",
       "585059    2018-12-31\n",
       "585060    2018-12-31\n",
       "585061    2018-12-31\n",
       "585062    2018-12-31\n",
       "585063    2018-12-31\n",
       "Name: 집계일자, Length: 585064, dtype: object"
      ]
     },
     "execution_count": 12,
     "metadata": {},
     "output_type": "execute_result"
    }
   ],
   "source": [
    "df['집계일자'].dt.date"
   ]
  },
  {
   "cell_type": "code",
   "execution_count": 14,
   "metadata": {
    "collapsed": true
   },
   "outputs": [
    {
     "data": {
      "text/html": [
       "<div>\n",
       "<style scoped>\n",
       "    .dataframe tbody tr th:only-of-type {\n",
       "        vertical-align: middle;\n",
       "    }\n",
       "\n",
       "    .dataframe tbody tr th {\n",
       "        vertical-align: top;\n",
       "    }\n",
       "\n",
       "    .dataframe thead th {\n",
       "        text-align: right;\n",
       "    }\n",
       "</style>\n",
       "<table border=\"1\" class=\"dataframe\">\n",
       "  <thead>\n",
       "    <tr style=\"text-align: right;\">\n",
       "      <th></th>\n",
       "      <th>집계일자</th>\n",
       "      <th>집계시간</th>\n",
       "      <th>영업소명</th>\n",
       "      <th>입구출구구분</th>\n",
       "      <th>통행량</th>\n",
       "    </tr>\n",
       "  </thead>\n",
       "  <tbody>\n",
       "    <tr>\n",
       "      <th>56927</th>\n",
       "      <td>2018-12-04</td>\n",
       "      <td>0</td>\n",
       "      <td>가락</td>\n",
       "      <td>0</td>\n",
       "      <td>92</td>\n",
       "    </tr>\n",
       "    <tr>\n",
       "      <th>56928</th>\n",
       "      <td>2018-12-04</td>\n",
       "      <td>0</td>\n",
       "      <td>가락</td>\n",
       "      <td>1</td>\n",
       "      <td>92</td>\n",
       "    </tr>\n",
       "    <tr>\n",
       "      <th>56929</th>\n",
       "      <td>2018-12-04</td>\n",
       "      <td>0</td>\n",
       "      <td>가락2</td>\n",
       "      <td>0</td>\n",
       "      <td>19</td>\n",
       "    </tr>\n",
       "    <tr>\n",
       "      <th>56930</th>\n",
       "      <td>2018-12-04</td>\n",
       "      <td>0</td>\n",
       "      <td>가락2</td>\n",
       "      <td>1</td>\n",
       "      <td>21</td>\n",
       "    </tr>\n",
       "    <tr>\n",
       "      <th>56931</th>\n",
       "      <td>2018-12-04</td>\n",
       "      <td>0</td>\n",
       "      <td>가산</td>\n",
       "      <td>0</td>\n",
       "      <td>32</td>\n",
       "    </tr>\n",
       "    <tr>\n",
       "      <th>...</th>\n",
       "      <td>...</td>\n",
       "      <td>...</td>\n",
       "      <td>...</td>\n",
       "      <td>...</td>\n",
       "      <td>...</td>\n",
       "    </tr>\n",
       "    <tr>\n",
       "      <th>474057</th>\n",
       "      <td>2018-12-25</td>\n",
       "      <td>23</td>\n",
       "      <td>회인</td>\n",
       "      <td>1</td>\n",
       "      <td>44</td>\n",
       "    </tr>\n",
       "    <tr>\n",
       "      <th>474058</th>\n",
       "      <td>2018-12-25</td>\n",
       "      <td>23</td>\n",
       "      <td>횡성</td>\n",
       "      <td>0</td>\n",
       "      <td>33</td>\n",
       "    </tr>\n",
       "    <tr>\n",
       "      <th>474059</th>\n",
       "      <td>2018-12-25</td>\n",
       "      <td>23</td>\n",
       "      <td>횡성</td>\n",
       "      <td>1</td>\n",
       "      <td>73</td>\n",
       "    </tr>\n",
       "    <tr>\n",
       "      <th>474060</th>\n",
       "      <td>2018-12-25</td>\n",
       "      <td>23</td>\n",
       "      <td>흥천이포</td>\n",
       "      <td>0</td>\n",
       "      <td>28</td>\n",
       "    </tr>\n",
       "    <tr>\n",
       "      <th>474061</th>\n",
       "      <td>2018-12-25</td>\n",
       "      <td>23</td>\n",
       "      <td>흥천이포</td>\n",
       "      <td>1</td>\n",
       "      <td>37</td>\n",
       "    </tr>\n",
       "  </tbody>\n",
       "</table>\n",
       "<p>75830 rows × 5 columns</p>\n",
       "</div>"
      ],
      "text/plain": [
       "             집계일자  집계시간  영업소명  입구출구구분  통행량\n",
       "56927  2018-12-04     0    가락       0   92\n",
       "56928  2018-12-04     0    가락       1   92\n",
       "56929  2018-12-04     0   가락2       0   19\n",
       "56930  2018-12-04     0   가락2       1   21\n",
       "56931  2018-12-04     0    가산       0   32\n",
       "...           ...   ...   ...     ...  ...\n",
       "474057 2018-12-25    23    회인       1   44\n",
       "474058 2018-12-25    23    횡성       0   33\n",
       "474059 2018-12-25    23    횡성       1   73\n",
       "474060 2018-12-25    23  흥천이포       0   28\n",
       "474061 2018-12-25    23  흥천이포       1   37\n",
       "\n",
       "[75830 rows x 5 columns]"
      ]
     },
     "execution_count": 14,
     "metadata": {},
     "output_type": "execute_result"
    }
   ],
   "source": [
    "# 월요일의 데이터만 출력\n",
    "df[df['집계일자'].dt.dayofweek==1]"
   ]
  },
  {
   "cell_type": "code",
   "execution_count": 15,
   "metadata": {},
   "outputs": [],
   "source": [
    "# '서울(특)', '동서울' 톨게이트의 데이터 추출"
   ]
  },
  {
   "cell_type": "code",
   "execution_count": 16,
   "metadata": {},
   "outputs": [
    {
     "data": {
      "text/plain": [
       "0         False\n",
       "1         False\n",
       "2         False\n",
       "3         False\n",
       "4         False\n",
       "          ...  \n",
       "585059    False\n",
       "585060    False\n",
       "585061    False\n",
       "585062    False\n",
       "585063    False\n",
       "Name: 영업소명, Length: 585064, dtype: bool"
      ]
     },
     "execution_count": 16,
     "metadata": {},
     "output_type": "execute_result"
    }
   ],
   "source": [
    "df['영업소명'].isin(['서울(특)', '동서울'])"
   ]
  },
  {
   "cell_type": "code",
   "execution_count": 17,
   "metadata": {},
   "outputs": [
    {
     "data": {
      "text/html": [
       "<div>\n",
       "<style scoped>\n",
       "    .dataframe tbody tr th:only-of-type {\n",
       "        vertical-align: middle;\n",
       "    }\n",
       "\n",
       "    .dataframe tbody tr th {\n",
       "        vertical-align: top;\n",
       "    }\n",
       "\n",
       "    .dataframe thead th {\n",
       "        text-align: right;\n",
       "    }\n",
       "</style>\n",
       "<table border=\"1\" class=\"dataframe\">\n",
       "  <thead>\n",
       "    <tr style=\"text-align: right;\">\n",
       "      <th></th>\n",
       "      <th>집계일자</th>\n",
       "      <th>집계시간</th>\n",
       "      <th>영업소명</th>\n",
       "      <th>입구출구구분</th>\n",
       "      <th>통행량</th>\n",
       "    </tr>\n",
       "  </thead>\n",
       "  <tbody>\n",
       "    <tr>\n",
       "      <th>250</th>\n",
       "      <td>2018-12-01</td>\n",
       "      <td>0</td>\n",
       "      <td>동서울</td>\n",
       "      <td>0</td>\n",
       "      <td>23</td>\n",
       "    </tr>\n",
       "    <tr>\n",
       "      <th>251</th>\n",
       "      <td>2018-12-01</td>\n",
       "      <td>0</td>\n",
       "      <td>동서울</td>\n",
       "      <td>1</td>\n",
       "      <td>62</td>\n",
       "    </tr>\n",
       "    <tr>\n",
       "      <th>449</th>\n",
       "      <td>2018-12-01</td>\n",
       "      <td>0</td>\n",
       "      <td>서울(특)</td>\n",
       "      <td>0</td>\n",
       "      <td>54</td>\n",
       "    </tr>\n",
       "    <tr>\n",
       "      <th>450</th>\n",
       "      <td>2018-12-01</td>\n",
       "      <td>0</td>\n",
       "      <td>서울(특)</td>\n",
       "      <td>1</td>\n",
       "      <td>72</td>\n",
       "    </tr>\n",
       "    <tr>\n",
       "      <th>1037</th>\n",
       "      <td>2018-12-01</td>\n",
       "      <td>1</td>\n",
       "      <td>동서울</td>\n",
       "      <td>0</td>\n",
       "      <td>14</td>\n",
       "    </tr>\n",
       "    <tr>\n",
       "      <th>...</th>\n",
       "      <td>...</td>\n",
       "      <td>...</td>\n",
       "      <td>...</td>\n",
       "      <td>...</td>\n",
       "      <td>...</td>\n",
       "    </tr>\n",
       "    <tr>\n",
       "      <th>584068</th>\n",
       "      <td>2018-12-31</td>\n",
       "      <td>22</td>\n",
       "      <td>서울(특)</td>\n",
       "      <td>1</td>\n",
       "      <td>122</td>\n",
       "    </tr>\n",
       "    <tr>\n",
       "      <th>584579</th>\n",
       "      <td>2018-12-31</td>\n",
       "      <td>23</td>\n",
       "      <td>동서울</td>\n",
       "      <td>0</td>\n",
       "      <td>50</td>\n",
       "    </tr>\n",
       "    <tr>\n",
       "      <th>584580</th>\n",
       "      <td>2018-12-31</td>\n",
       "      <td>23</td>\n",
       "      <td>동서울</td>\n",
       "      <td>1</td>\n",
       "      <td>155</td>\n",
       "    </tr>\n",
       "    <tr>\n",
       "      <th>584761</th>\n",
       "      <td>2018-12-31</td>\n",
       "      <td>23</td>\n",
       "      <td>서울(특)</td>\n",
       "      <td>0</td>\n",
       "      <td>52</td>\n",
       "    </tr>\n",
       "    <tr>\n",
       "      <th>584762</th>\n",
       "      <td>2018-12-31</td>\n",
       "      <td>23</td>\n",
       "      <td>서울(특)</td>\n",
       "      <td>1</td>\n",
       "      <td>83</td>\n",
       "    </tr>\n",
       "  </tbody>\n",
       "</table>\n",
       "<p>2976 rows × 5 columns</p>\n",
       "</div>"
      ],
      "text/plain": [
       "             집계일자  집계시간   영업소명  입구출구구분  통행량\n",
       "250    2018-12-01     0    동서울       0   23\n",
       "251    2018-12-01     0    동서울       1   62\n",
       "449    2018-12-01     0  서울(특)       0   54\n",
       "450    2018-12-01     0  서울(특)       1   72\n",
       "1037   2018-12-01     1    동서울       0   14\n",
       "...           ...   ...    ...     ...  ...\n",
       "584068 2018-12-31    22  서울(특)       1  122\n",
       "584579 2018-12-31    23    동서울       0   50\n",
       "584580 2018-12-31    23    동서울       1  155\n",
       "584761 2018-12-31    23  서울(특)       0   52\n",
       "584762 2018-12-31    23  서울(특)       1   83\n",
       "\n",
       "[2976 rows x 5 columns]"
      ]
     },
     "execution_count": 17,
     "metadata": {},
     "output_type": "execute_result"
    }
   ],
   "source": [
    "df[df['영업소명'].isin(['서울(특)', '동서울'])]"
   ]
  },
  {
   "cell_type": "code",
   "execution_count": 19,
   "metadata": {},
   "outputs": [],
   "source": [
    "# 영업소는 통영 또는 북통영이면서 요일은 토요일인 데이터 출력"
   ]
  },
  {
   "cell_type": "code",
   "execution_count": 20,
   "metadata": {},
   "outputs": [
    {
     "data": {
      "text/html": [
       "<div>\n",
       "<style scoped>\n",
       "    .dataframe tbody tr th:only-of-type {\n",
       "        vertical-align: middle;\n",
       "    }\n",
       "\n",
       "    .dataframe tbody tr th {\n",
       "        vertical-align: top;\n",
       "    }\n",
       "\n",
       "    .dataframe thead th {\n",
       "        text-align: right;\n",
       "    }\n",
       "</style>\n",
       "<table border=\"1\" class=\"dataframe\">\n",
       "  <thead>\n",
       "    <tr style=\"text-align: right;\">\n",
       "      <th></th>\n",
       "      <th>집계일자</th>\n",
       "      <th>집계시간</th>\n",
       "      <th>영업소명</th>\n",
       "      <th>입구출구구분</th>\n",
       "      <th>통행량</th>\n",
       "    </tr>\n",
       "  </thead>\n",
       "  <tbody>\n",
       "    <tr>\n",
       "      <th>19235</th>\n",
       "      <td>2018-12-02</td>\n",
       "      <td>0</td>\n",
       "      <td>동서울</td>\n",
       "      <td>0</td>\n",
       "      <td>60</td>\n",
       "    </tr>\n",
       "    <tr>\n",
       "      <th>19236</th>\n",
       "      <td>2018-12-02</td>\n",
       "      <td>0</td>\n",
       "      <td>동서울</td>\n",
       "      <td>1</td>\n",
       "      <td>34</td>\n",
       "    </tr>\n",
       "    <tr>\n",
       "      <th>19434</th>\n",
       "      <td>2018-12-02</td>\n",
       "      <td>0</td>\n",
       "      <td>서울(특)</td>\n",
       "      <td>0</td>\n",
       "      <td>67</td>\n",
       "    </tr>\n",
       "    <tr>\n",
       "      <th>19435</th>\n",
       "      <td>2018-12-02</td>\n",
       "      <td>0</td>\n",
       "      <td>서울(특)</td>\n",
       "      <td>1</td>\n",
       "      <td>80</td>\n",
       "    </tr>\n",
       "    <tr>\n",
       "      <th>20021</th>\n",
       "      <td>2018-12-02</td>\n",
       "      <td>1</td>\n",
       "      <td>동서울</td>\n",
       "      <td>0</td>\n",
       "      <td>20</td>\n",
       "    </tr>\n",
       "    <tr>\n",
       "      <th>...</th>\n",
       "      <td>...</td>\n",
       "      <td>...</td>\n",
       "      <td>...</td>\n",
       "      <td>...</td>\n",
       "      <td>...</td>\n",
       "    </tr>\n",
       "    <tr>\n",
       "      <th>567297</th>\n",
       "      <td>2018-12-30</td>\n",
       "      <td>22</td>\n",
       "      <td>서울(특)</td>\n",
       "      <td>1</td>\n",
       "      <td>125</td>\n",
       "    </tr>\n",
       "    <tr>\n",
       "      <th>567880</th>\n",
       "      <td>2018-12-30</td>\n",
       "      <td>23</td>\n",
       "      <td>동서울</td>\n",
       "      <td>0</td>\n",
       "      <td>59</td>\n",
       "    </tr>\n",
       "    <tr>\n",
       "      <th>567881</th>\n",
       "      <td>2018-12-30</td>\n",
       "      <td>23</td>\n",
       "      <td>동서울</td>\n",
       "      <td>1</td>\n",
       "      <td>60</td>\n",
       "    </tr>\n",
       "    <tr>\n",
       "      <th>568078</th>\n",
       "      <td>2018-12-30</td>\n",
       "      <td>23</td>\n",
       "      <td>서울(특)</td>\n",
       "      <td>0</td>\n",
       "      <td>48</td>\n",
       "    </tr>\n",
       "    <tr>\n",
       "      <th>568079</th>\n",
       "      <td>2018-12-30</td>\n",
       "      <td>23</td>\n",
       "      <td>서울(특)</td>\n",
       "      <td>1</td>\n",
       "      <td>83</td>\n",
       "    </tr>\n",
       "  </tbody>\n",
       "</table>\n",
       "<p>480 rows × 5 columns</p>\n",
       "</div>"
      ],
      "text/plain": [
       "             집계일자  집계시간   영업소명  입구출구구분  통행량\n",
       "19235  2018-12-02     0    동서울       0   60\n",
       "19236  2018-12-02     0    동서울       1   34\n",
       "19434  2018-12-02     0  서울(특)       0   67\n",
       "19435  2018-12-02     0  서울(특)       1   80\n",
       "20021  2018-12-02     1    동서울       0   20\n",
       "...           ...   ...    ...     ...  ...\n",
       "567297 2018-12-30    22  서울(특)       1  125\n",
       "567880 2018-12-30    23    동서울       0   59\n",
       "567881 2018-12-30    23    동서울       1   60\n",
       "568078 2018-12-30    23  서울(특)       0   48\n",
       "568079 2018-12-30    23  서울(특)       1   83\n",
       "\n",
       "[480 rows x 5 columns]"
      ]
     },
     "execution_count": 20,
     "metadata": {},
     "output_type": "execute_result"
    }
   ],
   "source": [
    "df[df['영업소명'].isin(['서울(특)', '동서울']) & (df['집계일자'].dt.dayofweek==6)]"
   ]
  },
  {
   "cell_type": "code",
   "execution_count": 21,
   "metadata": {},
   "outputs": [],
   "source": [
    "# 요일별 통행량을 계산하고, 통행량이 가장 많은 요일은 언제인가?"
   ]
  },
  {
   "cell_type": "code",
   "execution_count": 23,
   "metadata": {},
   "outputs": [],
   "source": [
    "df['요일'] = df['집계일자'].dt.dayofweek"
   ]
  },
  {
   "cell_type": "code",
   "execution_count": 24,
   "metadata": {
    "collapsed": true
   },
   "outputs": [
    {
     "data": {
      "text/html": [
       "<div>\n",
       "<style scoped>\n",
       "    .dataframe tbody tr th:only-of-type {\n",
       "        vertical-align: middle;\n",
       "    }\n",
       "\n",
       "    .dataframe tbody tr th {\n",
       "        vertical-align: top;\n",
       "    }\n",
       "\n",
       "    .dataframe thead th {\n",
       "        text-align: right;\n",
       "    }\n",
       "</style>\n",
       "<table border=\"1\" class=\"dataframe\">\n",
       "  <thead>\n",
       "    <tr style=\"text-align: right;\">\n",
       "      <th></th>\n",
       "      <th>집계일자</th>\n",
       "      <th>집계시간</th>\n",
       "      <th>영업소명</th>\n",
       "      <th>입구출구구분</th>\n",
       "      <th>통행량</th>\n",
       "      <th>요일</th>\n",
       "    </tr>\n",
       "  </thead>\n",
       "  <tbody>\n",
       "    <tr>\n",
       "      <th>0</th>\n",
       "      <td>2018-12-01</td>\n",
       "      <td>0</td>\n",
       "      <td>가락</td>\n",
       "      <td>0</td>\n",
       "      <td>143</td>\n",
       "      <td>5</td>\n",
       "    </tr>\n",
       "    <tr>\n",
       "      <th>1</th>\n",
       "      <td>2018-12-01</td>\n",
       "      <td>0</td>\n",
       "      <td>가락</td>\n",
       "      <td>1</td>\n",
       "      <td>178</td>\n",
       "      <td>5</td>\n",
       "    </tr>\n",
       "    <tr>\n",
       "      <th>2</th>\n",
       "      <td>2018-12-01</td>\n",
       "      <td>0</td>\n",
       "      <td>가락2</td>\n",
       "      <td>0</td>\n",
       "      <td>38</td>\n",
       "      <td>5</td>\n",
       "    </tr>\n",
       "    <tr>\n",
       "      <th>3</th>\n",
       "      <td>2018-12-01</td>\n",
       "      <td>0</td>\n",
       "      <td>가락2</td>\n",
       "      <td>1</td>\n",
       "      <td>41</td>\n",
       "      <td>5</td>\n",
       "    </tr>\n",
       "    <tr>\n",
       "      <th>4</th>\n",
       "      <td>2018-12-01</td>\n",
       "      <td>0</td>\n",
       "      <td>가산</td>\n",
       "      <td>0</td>\n",
       "      <td>58</td>\n",
       "      <td>5</td>\n",
       "    </tr>\n",
       "  </tbody>\n",
       "</table>\n",
       "</div>"
      ],
      "text/plain": [
       "        집계일자  집계시간 영업소명  입구출구구분  통행량  요일\n",
       "0 2018-12-01     0   가락       0  143   5\n",
       "1 2018-12-01     0   가락       1  178   5\n",
       "2 2018-12-01     0  가락2       0   38   5\n",
       "3 2018-12-01     0  가락2       1   41   5\n",
       "4 2018-12-01     0   가산       0   58   5"
      ]
     },
     "execution_count": 24,
     "metadata": {},
     "output_type": "execute_result"
    }
   ],
   "source": [
    "df.head()"
   ]
  },
  {
   "cell_type": "code",
   "execution_count": 27,
   "metadata": {
    "collapsed": true
   },
   "outputs": [
    {
     "data": {
      "text/plain": [
       "요일\n",
       "5    40720396\n",
       "0    37598555\n",
       "6    33777671\n",
       "4    33555256\n",
       "2    31383054\n",
       "3    30972330\n",
       "1    29181688\n",
       "Name: 통행량, dtype: int64"
      ]
     },
     "execution_count": 27,
     "metadata": {},
     "output_type": "execute_result"
    }
   ],
   "source": [
    "df.groupby('요일')['통행량'].sum().sort_values(ascending=False)"
   ]
  },
  {
   "cell_type": "code",
   "execution_count": 44,
   "metadata": {
    "collapsed": true
   },
   "outputs": [
    {
     "data": {
      "text/html": [
       "<div>\n",
       "<style scoped>\n",
       "    .dataframe tbody tr th:only-of-type {\n",
       "        vertical-align: middle;\n",
       "    }\n",
       "\n",
       "    .dataframe tbody tr th {\n",
       "        vertical-align: top;\n",
       "    }\n",
       "\n",
       "    .dataframe thead th {\n",
       "        text-align: right;\n",
       "    }\n",
       "</style>\n",
       "<table border=\"1\" class=\"dataframe\">\n",
       "  <thead>\n",
       "    <tr style=\"text-align: right;\">\n",
       "      <th></th>\n",
       "      <th>집계일자</th>\n",
       "      <th>집계시간</th>\n",
       "      <th>영업소명</th>\n",
       "      <th>입구출구구분</th>\n",
       "      <th>통행량</th>\n",
       "      <th>요일</th>\n",
       "    </tr>\n",
       "  </thead>\n",
       "  <tbody>\n",
       "    <tr>\n",
       "      <th>0</th>\n",
       "      <td>2018-12-01</td>\n",
       "      <td>0</td>\n",
       "      <td>가락</td>\n",
       "      <td>0</td>\n",
       "      <td>143</td>\n",
       "      <td>5</td>\n",
       "    </tr>\n",
       "    <tr>\n",
       "      <th>1</th>\n",
       "      <td>2018-12-01</td>\n",
       "      <td>0</td>\n",
       "      <td>가락</td>\n",
       "      <td>1</td>\n",
       "      <td>178</td>\n",
       "      <td>5</td>\n",
       "    </tr>\n",
       "    <tr>\n",
       "      <th>2</th>\n",
       "      <td>2018-12-01</td>\n",
       "      <td>0</td>\n",
       "      <td>가락2</td>\n",
       "      <td>0</td>\n",
       "      <td>38</td>\n",
       "      <td>5</td>\n",
       "    </tr>\n",
       "    <tr>\n",
       "      <th>3</th>\n",
       "      <td>2018-12-01</td>\n",
       "      <td>0</td>\n",
       "      <td>가락2</td>\n",
       "      <td>1</td>\n",
       "      <td>41</td>\n",
       "      <td>5</td>\n",
       "    </tr>\n",
       "    <tr>\n",
       "      <th>4</th>\n",
       "      <td>2018-12-01</td>\n",
       "      <td>0</td>\n",
       "      <td>가산</td>\n",
       "      <td>0</td>\n",
       "      <td>58</td>\n",
       "      <td>5</td>\n",
       "    </tr>\n",
       "  </tbody>\n",
       "</table>\n",
       "</div>"
      ],
      "text/plain": [
       "        집계일자  집계시간 영업소명  입구출구구분  통행량  요일\n",
       "0 2018-12-01     0   가락       0  143   5\n",
       "1 2018-12-01     0   가락       1  178   5\n",
       "2 2018-12-01     0  가락2       0   38   5\n",
       "3 2018-12-01     0  가락2       1   41   5\n",
       "4 2018-12-01     0   가산       0   58   5"
      ]
     },
     "execution_count": 44,
     "metadata": {},
     "output_type": "execute_result"
    }
   ],
   "source": [
    "day_dict = {0:'일요일', 1:'월요일', 2:'화요일', 3:'수요일', 4:'목요일', 5:'금요일', 6:'토요일'}\n",
    "df2 = df\n",
    "df2.head()"
   ]
  },
  {
   "cell_type": "code",
   "execution_count": 45,
   "metadata": {},
   "outputs": [],
   "source": [
    "df2['요일'] = df2['요일'].map(day_dict)"
   ]
  },
  {
   "cell_type": "code",
   "execution_count": 46,
   "metadata": {
    "collapsed": true
   },
   "outputs": [
    {
     "data": {
      "text/html": [
       "<div>\n",
       "<style scoped>\n",
       "    .dataframe tbody tr th:only-of-type {\n",
       "        vertical-align: middle;\n",
       "    }\n",
       "\n",
       "    .dataframe tbody tr th {\n",
       "        vertical-align: top;\n",
       "    }\n",
       "\n",
       "    .dataframe thead th {\n",
       "        text-align: right;\n",
       "    }\n",
       "</style>\n",
       "<table border=\"1\" class=\"dataframe\">\n",
       "  <thead>\n",
       "    <tr style=\"text-align: right;\">\n",
       "      <th></th>\n",
       "      <th>집계일자</th>\n",
       "      <th>집계시간</th>\n",
       "      <th>영업소명</th>\n",
       "      <th>입구출구구분</th>\n",
       "      <th>통행량</th>\n",
       "      <th>요일</th>\n",
       "    </tr>\n",
       "  </thead>\n",
       "  <tbody>\n",
       "    <tr>\n",
       "      <th>0</th>\n",
       "      <td>2018-12-01</td>\n",
       "      <td>0</td>\n",
       "      <td>가락</td>\n",
       "      <td>0</td>\n",
       "      <td>143</td>\n",
       "      <td>금요일</td>\n",
       "    </tr>\n",
       "    <tr>\n",
       "      <th>1</th>\n",
       "      <td>2018-12-01</td>\n",
       "      <td>0</td>\n",
       "      <td>가락</td>\n",
       "      <td>1</td>\n",
       "      <td>178</td>\n",
       "      <td>금요일</td>\n",
       "    </tr>\n",
       "    <tr>\n",
       "      <th>2</th>\n",
       "      <td>2018-12-01</td>\n",
       "      <td>0</td>\n",
       "      <td>가락2</td>\n",
       "      <td>0</td>\n",
       "      <td>38</td>\n",
       "      <td>금요일</td>\n",
       "    </tr>\n",
       "    <tr>\n",
       "      <th>3</th>\n",
       "      <td>2018-12-01</td>\n",
       "      <td>0</td>\n",
       "      <td>가락2</td>\n",
       "      <td>1</td>\n",
       "      <td>41</td>\n",
       "      <td>금요일</td>\n",
       "    </tr>\n",
       "    <tr>\n",
       "      <th>4</th>\n",
       "      <td>2018-12-01</td>\n",
       "      <td>0</td>\n",
       "      <td>가산</td>\n",
       "      <td>0</td>\n",
       "      <td>58</td>\n",
       "      <td>금요일</td>\n",
       "    </tr>\n",
       "  </tbody>\n",
       "</table>\n",
       "</div>"
      ],
      "text/plain": [
       "        집계일자  집계시간 영업소명  입구출구구분  통행량   요일\n",
       "0 2018-12-01     0   가락       0  143  금요일\n",
       "1 2018-12-01     0   가락       1  178  금요일\n",
       "2 2018-12-01     0  가락2       0   38  금요일\n",
       "3 2018-12-01     0  가락2       1   41  금요일\n",
       "4 2018-12-01     0   가산       0   58  금요일"
      ]
     },
     "execution_count": 46,
     "metadata": {},
     "output_type": "execute_result"
    }
   ],
   "source": [
    "df2.head()"
   ]
  },
  {
   "cell_type": "code",
   "execution_count": 47,
   "metadata": {},
   "outputs": [
    {
     "data": {
      "text/plain": [
       "40720396"
      ]
     },
     "execution_count": 47,
     "metadata": {},
     "output_type": "execute_result"
    }
   ],
   "source": [
    "df2.groupby('요일')['통행량'].sum().sort_values(ascending=False).max()"
   ]
  },
  {
   "cell_type": "code",
   "execution_count": 48,
   "metadata": {},
   "outputs": [],
   "source": [
    "# 7~9시 사이 입구 통행량이 가장 많은 영업소는 어디인가?"
   ]
  },
  {
   "cell_type": "code",
   "execution_count": 56,
   "metadata": {},
   "outputs": [],
   "source": [
    "df789 = df[(df['집계시간'].isin([7,8,9])) & (df['입구출구구분']==0)]"
   ]
  },
  {
   "cell_type": "code",
   "execution_count": 57,
   "metadata": {},
   "outputs": [
    {
     "data": {
      "text/plain": [
       "영업소명\n",
       "대천      512967\n",
       "안성      501639\n",
       "하남      468366\n",
       "대왕판교    440890\n",
       "시흥      433415\n",
       "Name: 통행량, dtype: int64"
      ]
     },
     "execution_count": 57,
     "metadata": {},
     "output_type": "execute_result"
    }
   ],
   "source": [
    "df789.groupby('영업소명')['통행량'].sum().sort_values(ascending=False)[:5]"
   ]
  },
  {
   "cell_type": "code",
   "execution_count": null,
   "metadata": {},
   "outputs": [],
   "source": []
  }
 ],
 "metadata": {
  "kernelspec": {
   "display_name": "Python 3",
   "language": "python",
   "name": "python3"
  },
  "language_info": {
   "codemirror_mode": {
    "name": "ipython",
    "version": 3
   },
   "file_extension": ".py",
   "mimetype": "text/x-python",
   "name": "python",
   "nbconvert_exporter": "python",
   "pygments_lexer": "ipython3",
   "version": "3.8.3"
  }
 },
 "nbformat": 4,
 "nbformat_minor": 4
}
